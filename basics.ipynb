{
 "cells": [
  {
   "cell_type": "code",
   "execution_count": 1,
   "id": "f1c16f5b-b739-4db2-aed7-2927cfae3249",
   "metadata": {},
   "outputs": [],
   "source": [
    "import numpy as np"
   ]
  },
  {
   "cell_type": "code",
   "execution_count": 8,
   "id": "41291e6f-f65d-4723-916b-aa6e4c3e5774",
   "metadata": {},
   "outputs": [
    {
     "name": "stdout",
     "output_type": "stream",
     "text": [
      "-> Testing w  = 3\n",
      " Predicted output = [ 0  3  6  9 12]\n",
      " Actual output = [ 0  3  6  9 12]\n",
      " Predicted output = [ 0  6 12 18 24]\n",
      " Error = [ 0  3  6  9 12]\n",
      "-> Testing w  = 4\n",
      " Predicted output = [ 0  4  8 12 16]\n",
      " Actual output = [ 0  4  8 12 16]\n",
      " Predicted output = [ 0  6 12 18 24]\n",
      " Error = [0 2 4 6 8]\n",
      "-> Testing w  = 5\n",
      " Predicted output = [ 0  5 10 15 20]\n",
      " Actual output = [ 0  5 10 15 20]\n",
      " Predicted output = [ 0  6 12 18 24]\n",
      " Error = [0 1 2 3 4]\n",
      "-> Testing w  = 6\n",
      " Predicted output = [ 0  6 12 18 24]\n",
      " Actual output = [ 0  6 12 18 24]\n",
      " Predicted output = [ 0  6 12 18 24]\n",
      " Error = [0 0 0 0 0]\n",
      "Converged at weight : 6\n",
      "Final predicted Weight : {predicted_u}\n"
     ]
    }
   ],
   "source": [
    "input_x =  np.array([0,1,2,3,4])\n",
    "output_u = np.array([0,6,12,18,24])\n",
    "\n",
    "w = 3\n",
    "tolerance = 0\n",
    "max_w = 9\n",
    "\n",
    "while (w <= max_w):\n",
    "    predicted_u = input_x *w\n",
    "    error = np.abs(predicted_u - output_u)\n",
    "\n",
    "    print(f\"-> Testing w  = {w}\")\n",
    "    print(f\" Predicted output = {predicted_u}\")\n",
    "    print(f\" Actual output = {predicted_u}\")\n",
    "    print(f\" Predicted output = {output_u}\")\n",
    "    print(f\" Error = {error}\")\n",
    "\n",
    "    if np.all(error<=tolerance):\n",
    "        print(f\"Converged at weight : {w}\")\n",
    "        break\n",
    "\n",
    "    w += 1\n",
    "\n",
    "if np.all(error<=tolerance):\n",
    "    print(\"Final predicted Weight : {predicted_u}\")\n",
    "else:\n",
    "    print(\"No match found in the given range\")\n",
    "    "
   ]
  },
  {
   "cell_type": "code",
   "execution_count": 11,
   "id": "89dc6751-90a9-4d70-89a9-9c383370ad94",
   "metadata": {},
   "outputs": [
    {
     "name": "stdout",
     "output_type": "stream",
     "text": [
      "-> Testing w  = 3\n",
      " Predicted output = [ 0  3  6  9 12]\n",
      " Actual output = [ 0  3  6  9 12]\n",
      " Predicted output = [ 0  6 12 18 24]\n",
      " Error = 54.0\n",
      "-> Testing w  = 4\n",
      " Predicted output = [ 0  4  8 12 16]\n",
      " Actual output = [ 0  4  8 12 16]\n",
      " Predicted output = [ 0  6 12 18 24]\n",
      " Error = 24.0\n",
      "-> Testing w  = 5\n",
      " Predicted output = [ 0  5 10 15 20]\n",
      " Actual output = [ 0  5 10 15 20]\n",
      " Predicted output = [ 0  6 12 18 24]\n",
      " Error = 6.0\n",
      "-> Testing w  = 6\n",
      " Predicted output = [ 0  6 12 18 24]\n",
      " Actual output = [ 0  6 12 18 24]\n",
      " Predicted output = [ 0  6 12 18 24]\n",
      " Error = 0.0\n",
      "Converged at weight : 6\n",
      "Final predicted Weight : {predicted_u}\n"
     ]
    }
   ],
   "source": [
    "input_x =  np.array([0,1,2,3,4])\n",
    "output_u = np.array([0,6,12,18,24])\n",
    "\n",
    "w = 3\n",
    "tolerance = 0\n",
    "max_threshold = 0.01\n",
    "\n",
    "def mean_squared_error(pred,actual):\n",
    "    return np.mean((pred-actual)**2)\n",
    "\n",
    "while (w <= max_w):\n",
    "    predicted_u = input_x *w\n",
    "    mse = mean_squared_error(predicted_u,output_u)\n",
    "\n",
    "    print(f\"-> Testing w  = {w}\")\n",
    "    print(f\" Predicted output = {predicted_u}\")\n",
    "    print(f\" Actual output = {predicted_u}\")\n",
    "    print(f\" Predicted output = {output_u}\")\n",
    "    print(f\" Error = {mse}\")\n",
    "\n",
    "    if np.all(mse<=max_threshold):\n",
    "        print(f\"Converged at weight : {w}\")\n",
    "        break\n",
    "\n",
    "    w += 1\n",
    "\n",
    "if np.all(error<=max_threshold):\n",
    "    print(\"Final predicted Weight : {predicted_u}\")\n",
    "else:\n",
    "    print(\"No match found in the given range\")\n",
    "    "
   ]
  },
  {
   "cell_type": "code",
   "execution_count": 20,
   "id": "273b09df-cf9e-4b23-a503-5d2a7c89784f",
   "metadata": {},
   "outputs": [
    {
     "name": "stdout",
     "output_type": "stream",
     "text": [
      "Epoch : 0: w = 3.0090, MSE = 53.6768\n",
      "Epoch : 100: w = 3.7846, MSE = 29.4480\n",
      "Epoch : 200: w = 4.3591, MSE = 16.1557\n",
      "Epoch : 300: w = 4.7846, MSE = 8.8633\n",
      "Epoch : 400: w = 5.0998, MSE = 4.8626\n",
      "Epoch : 500: w = 5.3332, MSE = 2.6677\n",
      "Epoch : 600: w = 5.5061, MSE = 1.4635\n",
      "Epoch : 700: w = 5.6342, MSE = 0.8029\n",
      "Epoch : 800: w = 5.7290, MSE = 0.4405\n",
      "Epoch : 900: w = 5.7993, MSE = 0.2417\n",
      "Epoch : 1000: w = 5.8514, MSE = 0.1326\n",
      "Epoch : 1100: w = 5.8899, MSE = 0.0727\n",
      "Epoch : 1200: w = 5.9184, MSE = 0.0399\n",
      "Epoch : 1300: w = 5.9396, MSE = 0.0219\n",
      "Epoch : 1400: w = 5.9553, MSE = 0.0120\n",
      "Epoch : 1500: w = 5.9669, MSE = 0.0066\n",
      "Epoch : 1600: w = 5.9755, MSE = 0.0036\n",
      "Epoch : 1700: w = 5.9818, MSE = 0.0020\n",
      "Epoch : 1800: w = 5.9865, MSE = 0.0011\n",
      "\n",
      "Converged at epoch : 1815 with weight : 5.9871\n",
      "\n",
      " Final Prediction output : [ 0.          5.98712677 11.97425353 17.9613803  23.94850706]\n"
     ]
    }
   ],
   "source": [
    "input_x =  np.array([0,1,2,3,4])\n",
    "output_u = np.array([0,6,12,18,24])\n",
    "\n",
    "w = 3\n",
    "max_epochs = 10000\n",
    "learning_rate = 0.0001\n",
    "mse_threshold = 0.001\n",
    "\n",
    "def mean_squared_error(pred,actual):\n",
    "    return np.mean((pred-actual)**2)\n",
    "\n",
    "for epoch in range(max_epochs):\n",
    "    for x_i,u_i in zip(input_x,output_u):\n",
    "        predicted = w * x_i;\n",
    "        error = u_i - predicted;\n",
    "        w = w + learning_rate * error * x_i\n",
    "\n",
    "    pred_u = input_x * w\n",
    "    mse = mean_squared_error(pred_u,output_u)\n",
    "\n",
    "    if epoch%100 == 0:\n",
    "        print(f\"Epoch : {epoch}: w = {w:.4f}, MSE = {mse:.4f}\")\n",
    "\n",
    "    if mse <= mse_threshold:\n",
    "        print(f\"\\nConverged at epoch : {epoch} with weight : {w:.4f}\")\n",
    "        break\n",
    "\n",
    "print(f\"\\n Final Prediction output : {w*input_x}\")\n",
    "    \n",
    "    "
   ]
  },
  {
   "cell_type": "code",
   "execution_count": 21,
   "id": "67a122bf-17bb-440f-8356-39f4df6cc097",
   "metadata": {},
   "outputs": [
    {
     "name": "stdout",
     "output_type": "stream",
     "text": [
      "Epoch : 0: w = 3.8205, MSE = 28.5002\n",
      "\n",
      "Converged at epoch : 13 with weight : 5.9658\n",
      "\n",
      " Final Prediction output : [ 0.          5.96577837 11.93155673 17.8973351  23.86311347]\n"
     ]
    }
   ],
   "source": [
    "input_x =  np.array([0,1,2,3,4])\n",
    "output_u = np.array([0,6,12,18,24])\n",
    "\n",
    "w = 3\n",
    "max_epochs = 1000\n",
    "learning_rate = 0.01\n",
    "mse_threshold = 0.01\n",
    "\n",
    "def mean_squared_error(pred,actual):\n",
    "    return np.mean((pred-actual)**2)\n",
    "\n",
    "def compute_gradient(x,y,w):\n",
    "    n = len(x)\n",
    "    return -(2/n) * np.sum(x*(y-w*x))\n",
    "\n",
    "for epoch in range(max_epochs):\n",
    "    gradient = compute_gradient(input_x,output_x,w)\n",
    "\n",
    "    pred_u = input_x * w\n",
    "    mse = mean_squared_error(pred_u,output_u)\n",
    "\n",
    "    if epoch%100 == 0:\n",
    "        print(f\"Epoch : {epoch}: w = {w:.4f}, MSE = {mse:.4f}\")\n",
    "\n",
    "    if mse <= mse_threshold:\n",
    "        print(f\"\\nConverged at epoch : {epoch} with weight : {w:.4f}\")\n",
    "        break\n",
    "\n",
    "print(f\"\\n Final Prediction output : {w*input_x}\")\n",
    "    \n",
    "    "
   ]
  },
  {
   "cell_type": "code",
   "execution_count": null,
   "id": "13fd9d7a-4b99-4bef-af1f-aa3a62d84114",
   "metadata": {},
   "outputs": [],
   "source": []
  }
 ],
 "metadata": {
  "kernelspec": {
   "display_name": "Python 3 (ipykernel)",
   "language": "python",
   "name": "python3"
  },
  "language_info": {
   "codemirror_mode": {
    "name": "ipython",
    "version": 3
   },
   "file_extension": ".py",
   "mimetype": "text/x-python",
   "name": "python",
   "nbconvert_exporter": "python",
   "pygments_lexer": "ipython3",
   "version": "3.9.4"
  }
 },
 "nbformat": 4,
 "nbformat_minor": 5
}
