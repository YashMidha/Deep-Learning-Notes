{
 "cells": [
  {
   "cell_type": "code",
   "execution_count": 30,
   "id": "6be6af07-4412-45bb-8f7f-9dc564421224",
   "metadata": {},
   "outputs": [],
   "source": [
    "import numpy as np\n",
    "import pandas as pd\n",
    "from tensorflow.keras.utils import to_categorical\n",
    "from tensorflow.keras.datasets import mnist"
   ]
  },
  {
   "cell_type": "code",
   "execution_count": 31,
   "id": "54a2fbf9-255f-4b7c-9c82-eb51fc33654b",
   "metadata": {},
   "outputs": [],
   "source": [
    "(X_train, y_train), (X_test, y_test) = mnist.load_data()"
   ]
  },
  {
   "cell_type": "code",
   "execution_count": 32,
   "id": "fc3a0f13-14ea-4f7a-8706-7d8e4f0e6a53",
   "metadata": {},
   "outputs": [],
   "source": [
    "X_train = X_train.reshape(-1, 28*28)/255\n",
    "X_test = X_test.reshape(-1, 28*28)/255"
   ]
  },
  {
   "cell_type": "code",
   "execution_count": 33,
   "id": "8ca5cd1f-9e7a-45da-b50f-3dde406e0b20",
   "metadata": {},
   "outputs": [],
   "source": [
    "y_train = to_categorical(y_train, 10)\n",
    "y_test = to_categorical(y_test, 10)"
   ]
  },
  {
   "cell_type": "code",
   "execution_count": 34,
   "id": "57c945c3-9b1e-4f97-807d-b263602279db",
   "metadata": {},
   "outputs": [
    {
     "data": {
      "text/plain": [
       "Text(0.5, 1.0, '[0. 0. 0. 0. 0. 0. 0. 1. 0. 0.]')"
      ]
     },
     "execution_count": 34,
     "metadata": {},
     "output_type": "execute_result"
    },
    {
     "data": {
      "image/png": "[encoded data removed]",
      "text/plain": [
       "<Figure size 432x288 with 1 Axes>"
      ]
     },
     "metadata": {
      "needs_background": "light"
     },
     "output_type": "display_data"
    }
   ],
   "source": [
    "sample_idx = 15\n",
    "data = X_train[sample_idx].reshape(28, 28)\n",
    "out = y_train[sample_idx]\n",
    "import matplotlib.pyplot as plt\n",
    "plt.imshow(data)\n",
    "plt.title(str(out))"
   ]
  },
  {
   "cell_type": "code",
   "execution_count": 37,
   "id": "eee48cf9-7cf7-4874-b5b4-d65760440316",
   "metadata": {},
   "outputs": [],
   "source": [
    "class ANN:\n",
    "    def __init__(self, input_layer = 784, hidden_layer = 64, output_layer = 10, lr = 0.01):\n",
    "        self.input_layer = input_layer\n",
    "        self.hidden_layer = hidden_layer\n",
    "        self.output_layer = output_layer\n",
    "        self.lr = lr\n",
    "\n",
    "        self.W1 = np.random.randn(self.input_layer, self.hidden_layer) * 0.01\n",
    "        self.W2 = np.random.randn(self.hidden_layer, self.output_layer) * 0.01\n",
    "        self.b1 = np.zeros((1, hidden_layer))\n",
    "        self.b2 = np.zeros((1, output_layer))\n",
    "\n",
    "    def sigmoid(self, z):\n",
    "        return 1/(1+np.exp(-z))\n",
    "\n",
    "    def softmax(self, z):\n",
    "        e_z = np.exp(z - np.max(z, axis=1, keepdims=True))\n",
    "        return e_z/np.sum(e_z, axis=1, keepdims=True)\n",
    "    \n",
    "    def forward(self, X):\n",
    "        self.z1 = np.dot(X, self.W1) + self.b1\n",
    "        self.a1 = self.sigmoid(self.z1)\n",
    "        self.z2 = np.dot(self.a1, self.W2) + self.b2\n",
    "        self.a2 = self.softmax(self.z2)\n",
    "        return self.a2\n",
    "\n",
    "    def backward(self, X, y, output):\n",
    "        m = X.shape[0]\n",
    "\n",
    "        error = output-y\n",
    "        dW2 = np.dot(self.a1.T, error) / m\n",
    "        db2 = np.sum(error, axis=0, keepdims = True) / m\n",
    "\n",
    "        error = np.dot(error, self.W2.T) * self.a1 * (1-self.a1)\n",
    "        dW1 = np.dot(X.T, error) / m\n",
    "        db1 = np.sum(error, axis=0, keepdims=True)/m\n",
    "        \n",
    "        self.W1 -= self.lr * dW1\n",
    "        self.W2 -= self.lr * dW2\n",
    "        self.b1 -= self.lr * db1\n",
    "        self.b2 -= self.lr * db2\n",
    "\n",
    "    def train(self, X, y, epochs=100, batch=64):\n",
    "        for eposh in range(epochs):\n",
    "            for i in range(0, X.shape[0], batch):\n",
    "                X_batch = X[i: i+batch]\n",
    "                y_batch = y[i: i+batch]\n",
    "\n",
    "                output = self.forward(X_batch)\n",
    "                self.backward(X_batch, y_batch, output)\n",
    "\n",
    "            pred = self.predict(X)\n",
    "            acc = np.mean(np.argmax(pred, axis=1) == np.argmax(y, axis=1))\n",
    "            print(acc)\n",
    "\n",
    "    def predict(self, X):\n",
    "        return self.forward(X)"
   ]
  },
  {
   "cell_type": "code",
   "execution_count": 38,
   "id": "52d5be69-8a97-4ef1-a259-b8e2f77b47d1",
   "metadata": {
    "scrolled": true
   },
   "outputs": [
    {
     "name": "stdout",
     "output_type": "stream",
     "text": [
      "0.20973333333333333\n",
      "0.39313333333333333\n",
      "0.5292833333333333\n",
      "0.6472333333333333\n",
      "0.73315\n",
      "0.7857333333333333\n",
      "0.8166333333333333\n",
      "0.8360666666666666\n",
      "0.8486666666666667\n",
      "0.85985\n",
      "0.8684\n",
      "0.8757333333333334\n",
      "0.8813166666666666\n",
      "0.8859833333333333\n",
      "0.8899166666666667\n",
      "0.8926333333333333\n",
      "0.89495\n",
      "0.8972833333333333\n",
      "0.8993333333333333\n",
      "0.90095\n",
      "Test accuracy : 0.9031\n"
     ]
    }
   ],
   "source": [
    "model = ANN()\n",
    "model.train(X_train,y_train,epochs = 20)\n",
    "\n",
    "y_pred = model.predict(X_test)\n",
    "accuracy = np.mean(np.argmax(y_pred,axis = 1) == np.argmax(y_test,axis = 1))\n",
    "print(f\"Test accuracy : {accuracy:.4f}\")\n",
    "\n"
   ]
  },
  {
   "cell_type": "code",
   "execution_count": null,
   "id": "1e8008fb-a072-4337-ac32-b2c62bd27d07",
   "metadata": {},
   "outputs": [],
   "source": []
  }
 ],
 "metadata": {
  "kernelspec": {
   "display_name": "Python 3 (ipykernel)",
   "language": "python",
   "name": "python3"
  },
  "language_info": {
   "codemirror_mode": {
    "name": "ipython",
    "version": 3
   },
   "file_extension": ".py",
   "mimetype": "text/x-python",
   "name": "python",
   "nbconvert_exporter": "python",
   "pygments_lexer": "ipython3",
   "version": "3.9.4"
  }
 },
 "nbformat": 4,
 "nbformat_minor": 5
}
