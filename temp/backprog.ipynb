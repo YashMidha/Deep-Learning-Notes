{
 "cells": [
  {
   "cell_type": "code",
   "execution_count": 25,
   "id": "4b9f13ce-3852-42c3-b03c-5c75e74e0e6e",
   "metadata": {},
   "outputs": [],
   "source": [
    "import numpy as np\n",
    "import pandas as pd"
   ]
  },
  {
   "cell_type": "code",
   "execution_count": null,
   "id": "d607cf14-cb67-4942-9b0b-a5e9e160d2c1",
   "metadata": {},
   "outputs": [],
   "source": []
  },
  {
   "cell_type": "code",
   "execution_count": 35,
   "id": "3e23bd02-2b7c-4b02-a6c6-5e390271d310",
   "metadata": {},
   "outputs": [],
   "source": [
    "class ANN:\n",
    "    def __init__(self, lr=0.01):\n",
    "        self.lr = lr\n",
    "        self.input_layer = 2\n",
    "        self.hidden_layer = 3\n",
    "        self.output_layer = 1\n",
    "        self.W1 = np.random.randn(self.input_layer, self.hidden_layer)\n",
    "        self.W2 = np.random.randn(self.hidden_layer, self.output_layer)\n",
    "\n",
    "    def sigmoid(self, output, deriv = False):\n",
    "        if (deriv):\n",
    "            return output * (1 - output)\n",
    "        return 1/(1+np.exp(-output))\n",
    "\n",
    "\n",
    "    def forward(self, X):\n",
    "        self.z1 = np.dot(X, self.W1)\n",
    "        self.a1 = self.sigmoid(self.z1)\n",
    "        self.z2 = np.dot(self.a1, self.W2)\n",
    "        self.a2 = self.sigmoid(self.z2)\n",
    "        return self.a2\n",
    "\n",
    "    def backward(self, X, y, output):\n",
    "\n",
    "        output_error = y - output\n",
    "        output_delta = self.sigmoid(output, True) * output_error\n",
    "        \n",
    "        hidden_error = np.dot(output_delta, self.W2.T)\n",
    "        hidden_delta = self.sigmoid(self.a1, True) * hidden_error\n",
    "        \n",
    "        self.W1 += self.lr * np.dot(X.T, hidden_delta)\n",
    "        self.W2 += self.lr * np.dot(self.z1.T, output_delta)\n",
    "    \n",
    "    def predict(self, X_test):\n",
    "        return self.forward(X_test)\n",
    "\n",
    "    def train(self, X, y, epochs=1000, batch=64):\n",
    "        for epoch in range(epochs):\n",
    "            for i in range(0, X.shape[0], batch):\n",
    "                X_batch = X[i:i+batch]\n",
    "                y_batch = y[i:i+batch]\n",
    "                \n",
    "                output = self.forward(X_batch)\n",
    "                self.backward(X_batch, y_batch, output)\n",
    "\n",
    "            pred = self.predict(X)\n",
    "            acc = np.mean(np.square(y - pred))\n",
    "            if (epoch%100 == 0):\n",
    "                print(acc)\n",
    "            # acc = np.mean(np.argmax(pred, axis=1) == np.argmax(y, axis=1))"
   ]
  },
  {
   "cell_type": "code",
   "execution_count": 36,
   "id": "f288f1fb-397a-4c40-bb1b-11b0ce53ad33",
   "metadata": {},
   "outputs": [],
   "source": [
    "NN = ANN()\n",
    "X = np.array(([2, 9], [1, 5], [3, 6]), dtype=float)\n",
    "y = np.array(([92], [86], [89]), dtype=float)\n",
    "X = X/np.max(X)\n",
    "y = y/100"
   ]
  },
  {
   "cell_type": "code",
   "execution_count": 37,
   "id": "068796de-d40a-43da-b44b-66842137a877",
   "metadata": {},
   "outputs": [
    {
     "name": "stdout",
     "output_type": "stream",
     "text": [
      "0.23003664512129404\n",
      "0.16364944449726848\n",
      "0.11585460366407467\n",
      "0.08292548722905324\n",
      "0.06048957098232909\n",
      "0.04508336605039881\n",
      "0.03432100659330736\n",
      "0.026644379958025335\n",
      "0.021050228650886293\n",
      "0.016889293562937682\n"
     ]
    }
   ],
   "source": [
    "NN.train(X,  y)"
   ]
  },
  {
   "cell_type": "code",
   "execution_count": null,
   "id": "18e14aac-5c5c-48b9-b7dc-9cf66f008ea8",
   "metadata": {},
   "outputs": [],
   "source": []
  }
 ],
 "metadata": {
  "kernelspec": {
   "display_name": "Python 3 (ipykernel)",
   "language": "python",
   "name": "python3"
  },
  "language_info": {
   "codemirror_mode": {
    "name": "ipython",
    "version": 3
   },
   "file_extension": ".py",
   "mimetype": "text/x-python",
   "name": "python",
   "nbconvert_exporter": "python",
   "pygments_lexer": "ipython3",
   "version": "3.9.4"
  }
 },
 "nbformat": 4,
 "nbformat_minor": 5
}
