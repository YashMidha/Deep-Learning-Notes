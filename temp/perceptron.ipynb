{
 "cells": [
  {
   "cell_type": "code",
   "execution_count": 1,
   "id": "fe7cf915-edcc-4881-8b1f-436deca88301",
   "metadata": {},
   "outputs": [],
   "source": [
    "import numpy as np\n",
    "import pandas as pd\n",
    "import matplotlib.pyplot as plt"
   ]
  },
  {
   "cell_type": "code",
   "execution_count": 6,
   "id": "d17657fa-33ae-460b-bbe0-b6b842164db3",
   "metadata": {},
   "outputs": [],
   "source": [
    "def step(x):\n",
    "    return np.where(x>=0, 1, 0)\n",
    "\n",
    "def tanh(x):\n",
    "    return np.tanh(x)\n",
    "\n",
    "def sigmoid(x):\n",
    "    return 1/(1+np.exp(-x))\n",
    "\n",
    "def relu(x):\n",
    "    return np.where(x >= 0, x, 0)\n",
    "\n",
    "def leaky_relu(x, alpha = 0.01):\n",
    "    return np.where(x >= 0, x, alpha*x)\n",
    "\n",
    "\n",
    "def softmax(x):\n",
    "    exp_x = np.exp(x - np.max(x))\n",
    "    return exp_x/np.sum(exp_x)\n",
    "    "
   ]
  },
  {
   "cell_type": "code",
   "execution_count": 7,
   "id": "020852fd-a392-426e-b40e-b3e1ef04941b",
   "metadata": {},
   "outputs": [],
   "source": [
    "x = np.linspace(-10, 10, 400)"
   ]
  },
  {
   "cell_type": "code",
   "execution_count": 8,
   "id": "aa07f31c-becd-4cae-9bc4-0b733835d3f2",
   "metadata": {},
   "outputs": [
    {
     "data": {
      "text/plain": [
       "Text(0.5, 1.0, 'Step')"
      ]
     },
     "execution_count": 8,
     "metadata": {},
     "output_type": "execute_result"
    },
    {
     "data": {
      "image/png": "[encoded data removed]",
      "text/plain": [
       "<Figure size 432x288 with 6 Axes>"
      ]
     },
     "metadata": {
      "needs_background": "light"
     },
     "output_type": "display_data"
    }
   ],
   "source": [
    "plt.subplot(2, 3, 1)\n",
    "plt.plot(x, step(x))\n",
    "plt.title(\"Step\")\n",
    "\n",
    "plt.subplot(2, 3, 2)\n",
    "plt.plot(x, tanh(x))\n",
    "plt.title(\"Step\")\n",
    "\n",
    "plt.subplot(2, 3, 3)\n",
    "plt.plot(x, sigmoid(x))\n",
    "plt.title(\"Step\")\n",
    "\n",
    "plt.subplot(2, 3, 4)\n",
    "plt.plot(x, relu(x))\n",
    "plt.title(\"Step\")\n",
    "\n",
    "plt.subplot(2, 3, 5)\n",
    "plt.plot(x, leaky_relu(x))\n",
    "plt.title(\"Step\")\n",
    "\n",
    "plt.subplot(2, 3, 6)\n",
    "plt.plot(x, softmax(x))\n",
    "plt.title(\"Step\")\n",
    "\n"
   ]
  },
  {
   "cell_type": "code",
   "execution_count": 10,
   "id": "e59d3778-a175-4b1a-9f8c-0cb667454c45",
   "metadata": {},
   "outputs": [],
   "source": [
    "def f(x, w, b):\n",
    "    return np.dot(x, w) + b"
   ]
  },
  {
   "cell_type": "code",
   "execution_count": 25,
   "id": "efea0d9d-2198-4632-9fb2-e488c06113dd",
   "metadata": {},
   "outputs": [],
   "source": [
    "def predict(x, w, b, activation):\n",
    "    return activation(f(x, w, b))"
   ]
  },
  {
   "cell_type": "code",
   "execution_count": 28,
   "id": "777f2e53-0554-4f6c-b34a-6e28929e9769",
   "metadata": {},
   "outputs": [],
   "source": [
    "def train(x, y, lr = 0.01, epochs = 100):\n",
    "    n_samples, n_features = x.shape\n",
    "    w = np.zeros(n_features)\n",
    "    b = 0\n",
    "    for epoch in range(epochs):\n",
    "        for i in range(n_samples):\n",
    "            y_pred = predict(x[i], w, b, step)\n",
    "            error = y[i] - y_pred\n",
    "            w += lr*error*x[i]\n",
    "            b += lr*error\n",
    "    print(w)\n",
    "    print(b)\n",
    "    return (w, b)"
   ]
  },
  {
   "cell_type": "code",
   "execution_count": 29,
   "id": "5a895a7c-3bd2-4507-aa18-c2b609878a74",
   "metadata": {},
   "outputs": [
    {
     "name": "stdout",
     "output_type": "stream",
     "text": [
      "[0.02 0.01]\n",
      "-0.03\n",
      "Predictions :  [1 0]\n"
     ]
    }
   ],
   "source": [
    "X = np.array([\n",
    "    [0,0],\n",
    "    [0,1],\n",
    "    [1,0],\n",
    "    [1,1],\n",
    "    [2,2]\n",
    "])\n",
    "y = np.array([0,0,0,1,1])\n",
    "w, b = train(X, y)\n",
    "X_test = np.array([\n",
    "    [1,2],\n",
    "    [0.5,0.5]\n",
    "])\n",
    "print(\"Predictions : \" , predict(X_test, w, b, step))"
   ]
  },
  {
   "cell_type": "code",
   "execution_count": null,
   "id": "88707d7c-15e2-4818-90ac-6b07f0b78e83",
   "metadata": {},
   "outputs": [],
   "source": []
  }
 ],
 "metadata": {
  "kernelspec": {
   "display_name": "Python 3 (ipykernel)",
   "language": "python",
   "name": "python3"
  },
  "language_info": {
   "codemirror_mode": {
    "name": "ipython",
    "version": 3
   },
   "file_extension": ".py",
   "mimetype": "text/x-python",
   "name": "python",
   "nbconvert_exporter": "python",
   "pygments_lexer": "ipython3",
   "version": "3.9.4"
  }
 },
 "nbformat": 4,
 "nbformat_minor": 5
}
