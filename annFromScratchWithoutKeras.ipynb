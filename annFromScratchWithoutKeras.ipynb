{
 "cells": [
  {
   "cell_type": "code",
   "execution_count": 59,
   "id": "f2db0d0e-78a4-462c-9a92-170f62d5c4b1",
   "metadata": {},
   "outputs": [],
   "source": [
    "import numpy as np\n",
    "from tensorflow.keras.datasets import mnist\n",
    "from tensorflow.keras.utils import to_categorical\n",
    "import matplotlib.pyplot as plt"
   ]
  },
  {
   "cell_type": "code",
   "execution_count": 60,
   "id": "265a3893-1009-457a-9ae1-7eb2b95abe47",
   "metadata": {},
   "outputs": [],
   "source": [
    "(X_train,y_train), (X_test,y_test) = mnist.load_data()"
   ]
  },
  {
   "cell_type": "code",
   "execution_count": 61,
   "id": "3daff2fd-8dbe-456f-aeac-fe051bbaa01b",
   "metadata": {},
   "outputs": [],
   "source": [
    "X_train = X_train.reshape(-1,28*28) / 255.0\n",
    "X_test = X_test.reshape(-1,28*28) / 255.0"
   ]
  },
  {
   "cell_type": "code",
   "execution_count": 62,
   "id": "3329bf41-f075-417a-a62a-eea7adbb8299",
   "metadata": {},
   "outputs": [],
   "source": [
    "y_train = to_categorical(y_train,10)\n",
    "y_test = to_categorical(y_test,10)"
   ]
  },
  {
   "cell_type": "code",
   "execution_count": 76,
   "id": "ded27f62-90d0-47b4-a55d-2247f8299540",
   "metadata": {},
   "outputs": [
    {
     "data": {
      "image/png": "[encoded data removed]",
      "text/plain": [
       "<Figure size 640x480 with 1 Axes>"
      ]
     },
     "metadata": {},
     "output_type": "display_data"
    }
   ],
   "source": [
    "sample_index = 10  # You can pick any index\n",
    "X_sample = X_train[sample_index].reshape(1, -1)  # Reshape to match batch input\n",
    "y_sample_true = y_train[sample_index]            # Actual label (integer)\n",
    "# Preview a sample image\n",
    "plt.imshow(X_sample.reshape(28, 28), cmap='gray')\n",
    "plt.title(f\"Label: {y_sample_true}\")\n",
    "plt.axis('off')\n",
    "plt.show()"
   ]
  },
  {
   "cell_type": "code",
   "execution_count": 68,
   "id": "6490ebc5-ed22-4b0f-9815-9374235de85b",
   "metadata": {},
   "outputs": [
    {
     "name": "stdout",
     "output_type": "stream",
     "text": [
      "Epoch 1 : Accuracy : 0.8523 \n",
      "Epoch 2 : Accuracy : 0.8957 \n",
      "Epoch 3 : Accuracy : 0.9091 \n",
      "Epoch 4 : Accuracy : 0.9173 \n",
      "Epoch 5 : Accuracy : 0.9237 \n",
      "Epoch 6 : Accuracy : 0.9299 \n",
      "Epoch 7 : Accuracy : 0.9349 \n",
      "Epoch 8 : Accuracy : 0.9388 \n",
      "Epoch 9 : Accuracy : 0.9425 \n",
      "Epoch 10 : Accuracy : 0.9456 \n",
      "Epoch 11 : Accuracy : 0.9483 \n",
      "Epoch 12 : Accuracy : 0.9508 \n",
      "Epoch 13 : Accuracy : 0.9532 \n",
      "Epoch 14 : Accuracy : 0.9550 \n",
      "Epoch 15 : Accuracy : 0.9567 \n",
      "Epoch 16 : Accuracy : 0.9585 \n",
      "Epoch 17 : Accuracy : 0.9600 \n",
      "Epoch 18 : Accuracy : 0.9614 \n",
      "Epoch 19 : Accuracy : 0.9628 \n",
      "Epoch 20 : Accuracy : 0.9643 \n",
      "Test accuracy : 0.9594\n"
     ]
    }
   ],
   "source": [
    "class ANN:\n",
    "    def __init__(self,input_size = 784,hidden_size = 64,output_size = 10,learning_rate = 0.1):\n",
    "        self.lr = learning_rate\n",
    "        self.W1 = np.random.randn(input_size,hidden_size) * 0.01\n",
    "        self.W2 = np.random.randn(hidden_size,output_size) * 0.01\n",
    "        self.b1 = np.zeros((1,hidden_size))\n",
    "        self.b2 = np.zeros((1,output_size))\n",
    "\n",
    "    def sigmoid(self, z):\n",
    "        return 1 / (1 + np.exp(-z))\n",
    "\n",
    "    def softmax(self, z):\n",
    "        e_z = np.exp(z - np.max(z, axis=1, keepdims=True))\n",
    "        return  e_z / np.sum(e_z, axis=1, keepdims=True)\n",
    "\n",
    "    def forward(self,X):\n",
    "        self.Z1 = np.dot(X, self.W1) + self.b1\n",
    "        self.A1 = self.sigmoid(self.Z1)\n",
    "        self.Z2 = np.dot(self.A1, self.W2) + self.b2\n",
    "        self.A2 = self.softmax(self.Z2)\n",
    "        return self.A2\n",
    "\n",
    "    def backward(self,X,y,output):\n",
    "        m = X.shape[0]\n",
    "\n",
    "        dZ2 = output - y\n",
    "        dW2 = np.dot(self.A1.T,dZ2) / m\n",
    "        db2 = np.sum(dZ2,axis = 0,keepdims = True)/m\n",
    "\n",
    "        dZ1 = np.dot(dZ2,self.W2.T) * self.A1 * (1-self.A1)\n",
    "        dW1 = np.dot(X.T,dZ1) / m\n",
    "        db1 = np.sum(dZ1,axis = 0,keepdims = True)/m\n",
    "\n",
    "        self.W1 -= self.lr * dW1\n",
    "        self.b1 -= self.lr * db1\n",
    "        self.W2 -= self.lr * dW2\n",
    "        self.b2 -= self.lr * db2\n",
    "\n",
    "    def train(self,X,y,epochs = 10,batch_size = 64):\n",
    "        for epoch in range(epochs):\n",
    "            for i in range(0,X.shape[0],batch_size):\n",
    "                X_batch = X[i:i+batch_size]\n",
    "                Y_batch = y[i:i+batch_size]\n",
    "\n",
    "                output = self.forward(X_batch)\n",
    "                self.backward(X_batch,Y_batch,output)\n",
    "\n",
    "            pred = self.predict(X)\n",
    "            acc = np.mean(np.argmax(pred,axis = 1) == np.argmax(y,axis = 1))\n",
    "            print(f\"Epoch {epoch + 1} : Accuracy : {acc:.4f} \")\n",
    "\n",
    "    def predict(self,X):\n",
    "        return self.forward(X)\n",
    "\n",
    "model = ANN()\n",
    "model.train(X_train,y_train,epochs = 20)\n",
    "\n",
    "y_pred = model.predict(X_test)\n",
    "accuracy = np.mean(np.argmax(y_pred,axis = 1) == np.argmax(y_test,axis = 1))\n",
    "print(f\"Test accuracy : {accuracy:.4f}\")\n",
    "\n"
   ]
  },
  {
   "cell_type": "code",
   "execution_count": 71,
   "id": "3e9ec60d-16a3-48bf-b760-946f15d39d8b",
   "metadata": {},
   "outputs": [
    {
     "name": "stdout",
     "output_type": "stream",
     "text": [
      "Epoch 1 : Accuracy : 0.9107 \n",
      "Epoch 2 : Accuracy : 0.9353 \n",
      "Epoch 3 : Accuracy : 0.9479 \n",
      "Epoch 4 : Accuracy : 0.9571 \n",
      "Epoch 5 : Accuracy : 0.9633 \n",
      "Epoch 6 : Accuracy : 0.9673 \n",
      "Epoch 7 : Accuracy : 0.9706 \n",
      "Epoch 8 : Accuracy : 0.9731 \n",
      "Epoch 9 : Accuracy : 0.9756 \n",
      "Epoch 10 : Accuracy : 0.9778 \n",
      "Epoch 11 : Accuracy : 0.9794 \n",
      "Epoch 12 : Accuracy : 0.9808 \n",
      "Epoch 13 : Accuracy : 0.9820 \n",
      "Epoch 14 : Accuracy : 0.9832 \n",
      "Epoch 15 : Accuracy : 0.9843 \n",
      "Epoch 16 : Accuracy : 0.9852 \n",
      "Epoch 17 : Accuracy : 0.9861 \n",
      "Epoch 18 : Accuracy : 0.9868 \n",
      "Epoch 19 : Accuracy : 0.9873 \n",
      "Epoch 20 : Accuracy : 0.9880 \n",
      "Test accuracy : 0.9727\n"
     ]
    }
   ],
   "source": [
    "class ANN:\n",
    "    def __init__(self,input_size = 784,hidden_size = 64,output_size = 10,learning_rate = 0.1):\n",
    "        self.lr = learning_rate\n",
    "        self.W1 = np.random.randn(input_size,hidden_size) * 0.01\n",
    "        self.W2 = np.random.randn(hidden_size,output_size) * 0.01\n",
    "        self.b1 = np.zeros((1,hidden_size))\n",
    "        self.b2 = np.zeros((1,output_size))\n",
    "\n",
    "    def softmax(self, z):\n",
    "        e_z = np.exp(z - np.max(z, axis=1, keepdims=True))\n",
    "        return  e_z / np.sum(e_z, axis=1, keepdims=True)\n",
    "\n",
    "    def relu(self, z):\n",
    "        return np.maximum(0, z)\n",
    "\n",
    "    def relu_derivative(self, z):\n",
    "        return (z > 0).astype(float)\n",
    "\n",
    "\n",
    "    def forward(self,X):\n",
    "        self.Z1 = np.dot(X, self.W1) + self.b1\n",
    "        self.A1 = self.relu(self.Z1)\n",
    "        self.Z2 = np.dot(self.A1, self.W2) + self.b2\n",
    "        self.A2 = self.softmax(self.Z2)\n",
    "        return self.A2\n",
    "\n",
    "    def backward(self,X,y,output):\n",
    "        m = X.shape[0]\n",
    "\n",
    "        dZ2 = output - y\n",
    "        dW2 = np.dot(self.A1.T,dZ2) / m\n",
    "        db2 = np.sum(dZ2,axis = 0,keepdims = True)/m\n",
    "\n",
    "        dZ1 = np.dot(dZ2,self.W2.T) * self.relu_derivative(self.Z1)\n",
    "        dW1 = np.dot(X.T,dZ1) / m\n",
    "        db1 = np.sum(dZ1,axis = 0,keepdims = True)/m\n",
    "\n",
    "        self.W1 -= self.lr * dW1\n",
    "        self.b1 -= self.lr * db1\n",
    "        self.W2 -= self.lr * dW2\n",
    "        self.b2 -= self.lr * db2\n",
    "\n",
    "    def train(self,X,y,epochs = 10,batch_size = 64):\n",
    "        for epoch in range(epochs):\n",
    "            for i in range(0,X.shape[0],batch_size):\n",
    "                X_batch = X[i:i+batch_size]\n",
    "                Y_batch = y[i:i+batch_size]\n",
    "\n",
    "                output = self.forward(X_batch)\n",
    "                self.backward(X_batch,Y_batch,output)\n",
    "\n",
    "            pred = self.predict(X)\n",
    "            acc = np.mean(np.argmax(pred,axis = 1) == np.argmax(y,axis = 1))\n",
    "            print(f\"Epoch {epoch + 1} : Accuracy : {acc:.4f} \")\n",
    "\n",
    "    def predict(self,X):\n",
    "        return self.forward(X)\n",
    "\n",
    "model = ANN()\n",
    "model.train(X_train,y_train,epochs = 20)\n",
    "\n",
    "y_pred = model.predict(X_test)\n",
    "accuracy = np.mean(np.argmax(y_pred,axis = 1) == np.argmax(y_test,axis = 1))\n",
    "print(f\"Test accuracy : {accuracy:.4f}\")\n",
    "\n"
   ]
  },
  {
   "cell_type": "code",
   "execution_count": 77,
   "id": "9abf5b33-85e2-467a-aeed-989fc54689fd",
   "metadata": {},
   "outputs": [
    {
     "name": "stdout",
     "output_type": "stream",
     "text": [
      "[1.63224686e-10 1.08775007e-06 2.32976120e-09 9.99973704e-01\n",
      " 1.51180899e-12 2.01328748e-06 2.50933700e-15 1.27763925e-12\n",
      " 6.36186231e-07 2.25565089e-05]\n",
      "3\n"
     ]
    }
   ],
   "source": [
    "y_sample_pred=model.predict(X_sample)[0]\n",
    "print(y_sample_pred)\n",
    "print(np.argmax(y_sample_pred))"
   ]
  },
  {
   "cell_type": "code",
   "execution_count": 78,
   "id": "b72f07fe-5d43-403f-bb6e-15c4ef6e0eac",
   "metadata": {},
   "outputs": [
    {
     "name": "stdout",
     "output_type": "stream",
     "text": [
      "0.9999737037715543\n"
     ]
    }
   ],
   "source": [
    "print(np.dot(y_sample_true,y_sample_pred))"
   ]
  },
  {
   "cell_type": "code",
   "execution_count": null,
   "id": "98aef7e7-f559-4508-9bce-9ebf92de4cff",
   "metadata": {},
   "outputs": [],
   "source": []
  }
 ],
 "metadata": {
  "kernelspec": {
   "display_name": "Python 3 (ipykernel)",
   "language": "python",
   "name": "python3"
  },
  "language_info": {
   "codemirror_mode": {
    "name": "ipython",
    "version": 3
   },
   "file_extension": ".py",
   "mimetype": "text/x-python",
   "name": "python",
   "nbconvert_exporter": "python",
   "pygments_lexer": "ipython3",
   "version": "3.9.4"
  }
 },
 "nbformat": 4,
 "nbformat_minor": 5
}
